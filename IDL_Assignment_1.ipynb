{
  "nbformat": 4,
  "nbformat_minor": 0,
  "metadata": {
    "colab": {
      "provenance": [],
      "collapsed_sections": []
    },
    "kernelspec": {
      "name": "python3",
      "display_name": "Python 3"
    },
    "language_info": {
      "name": "python"
    }
  },
  "cells": [
    {
      "cell_type": "markdown",
      "source": [
        "#Group Members\n",
        "1. Preeti Singh\n",
        "2. Saikat Mitra\n",
        "3. Shardul Kulkarni"
      ],
      "metadata": {
        "id": "eb2wMY9SXuYv"
      }
    },
    {
      "cell_type": "code",
      "metadata": {
        "id": "aGFJ253-i5KP",
        "pycharm": {
          "name": "#%%\n"
        }
      },
      "source": [
        " import os\n",
        " os.chdir(\"/content/drive/MyDrive/Colab Notebooks/IDL/Ass1\")"
      ],
      "execution_count": null,
      "outputs": []
    },
    {
      "cell_type": "code",
      "source": [
        "from google.colab import drive\n",
        "drive.mount('/content/drive')"
      ],
      "metadata": {
        "colab": {
          "base_uri": "https://localhost:8080/"
        },
        "id": "YoieuECoHkei",
        "outputId": "87cc0efb-0980-4a90-9cf8-38ece876fc96"
      },
      "execution_count": null,
      "outputs": [
        {
          "output_type": "stream",
          "name": "stdout",
          "text": [
            "Mounted at /content/drive\n"
          ]
        }
      ]
    },
    {
      "cell_type": "code",
      "metadata": {
        "id": "cOO6qi2cjYTI",
        "pycharm": {
          "name": "#%%\n"
        }
      },
      "source": [
        "import tensorflow as tf\n",
        "import numpy as np\n",
        "from matplotlib import pyplot as plt\n",
        "from datasets import MNISTDataset"
      ],
      "execution_count": null,
      "outputs": []
    },
    {
      "cell_type": "code",
      "metadata": {
        "id": "Jp1YQ0ERjhWA",
        "pycharm": {
          "name": "#%%\n"
        },
        "colab": {
          "base_uri": "https://localhost:8080/",
          "height": 333
        },
        "outputId": "f6d1fae6-3645-40f2-916f-1b5fe5d6550d"
      },
      "source": [
        "# mnist is a api or link to MNIST dataset - keras.api._v2.keras.datasets.mnist\n",
        "mnist = tf.keras.datasets.mnist\n",
        "(train_images, train_labels), (test_images, test_labels) = mnist.load_data() #Splitting the dataset into training & Testing set\n",
        "\n",
        "# we can look at any of the images and the corresponding labels\n",
        "# say, image no. 155\n",
        "plt.imshow(train_images[155], cmap=\"Greys_r\")\n",
        "plt.show()\n",
        "print(train_labels[155])\n",
        "train_images.reshape(-1,2)\n",
        "# images are \"flattened\" into vectors to avoid heavy memory usage\n",
        "data = MNISTDataset(train_images.reshape([-1, 28*28]), train_labels, \n",
        "                    test_images.reshape([-1, 28*28]), test_labels,\n",
        "                    batch_size=128)\n",
        "print(train_images[155].shape)"
      ],
      "execution_count": null,
      "outputs": [
        {
          "output_type": "stream",
          "name": "stdout",
          "text": [
            "Downloading data from https://storage.googleapis.com/tensorflow/tf-keras-datasets/mnist.npz\n",
            "11490434/11490434 [==============================] - 0s 0us/step\n"
          ]
        },
        {
          "output_type": "display_data",
          "data": {
            "text/plain": [
              "<Figure size 432x288 with 1 Axes>"
            ],
            "image/png": "[encoded data removed]"
          },
          "metadata": {
            "needs_background": "light"
          }
        },
        {
          "output_type": "stream",
          "name": "stdout",
          "text": [
            "6\n",
            "(28, 28)\n"
          ]
        }
      ]
    },
    {
      "cell_type": "code",
      "source": [
        "# here is an attempt at illustrating what flattening looks like\n",
        "reshaped = train_images[155].reshape((-1, 28*28))\n",
        "plt.figure(figsize=(17, 5))\n",
        "plt.pcolormesh(reshaped, cmap=\"Greys_r\")\n",
        "plt.show()"
      ],
      "metadata": {
        "id": "_y6U9BC-ermh",
        "pycharm": {
          "name": "#%%\n"
        },
        "colab": {
          "base_uri": "https://localhost:8080/",
          "height": 324
        },
        "outputId": "9c30cc5c-a789-468a-aaf5-50ab0f1a8eba"
      },
      "execution_count": null,
      "outputs": [
        {
          "output_type": "display_data",
          "data": {
            "text/plain": [
              "<Figure size 1224x360 with 1 Axes>"
            ],
            "image/png": "[encoded data removed]"
          },
          "metadata": {
            "needs_background": "light"
          }
        }
      ]
    },
    {
      "cell_type": "code",
      "source": [
        "print(train_images.shape, train_labels.shape)"
      ],
      "metadata": {
        "colab": {
          "base_uri": "https://localhost:8080/"
        },
        "id": "wYv32fO0iBSQ",
        "outputId": "3c026108-7dd6-4776-efba-380d6baa22de"
      },
      "execution_count": null,
      "outputs": [
        {
          "output_type": "stream",
          "name": "stdout",
          "text": [
            "(60000, 28, 28) (60000,)\n"
          ]
        }
      ]
    },
    {
      "cell_type": "code",
      "metadata": {
        "id": "1e-xm7xnjoAB",
        "pycharm": {
          "name": "#%%\n"
        }
      },
      "source": [
        "# Weights and bias initialization\n",
        "w0 = tf.Variable(np.random.uniform(size=(784,256), low=-0.1, high=0.1).astype(np.float32))\n",
        "b0 = tf.Variable(np.random.uniform(size = 256, low=-0.1, high=0.1).astype(np.float32))\n",
        "w1 = tf.Variable(np.random.uniform(size =(256,256), low=-0.1, high=0.1).astype(np.float32))\n",
        "b1 = tf.Variable(np.random.uniform(size = 256, low=-0.1, high=0.1).astype(np.float32))\n",
        "out_w = tf.Variable(np.random.uniform(size =(256,10), low=-0.1, high=0.1).astype(np.float32))\n",
        "out_b = tf.Variable(np.random.uniform(size = 10, low=-0.1, high=0.1).astype(np.float32))\n",
        "\n",
        "# Using Activation function RELU to overcome Vanishing Gradient Problem \n",
        "def model(inputs):\n",
        "  # Input Layer \n",
        "  layer_1 = tf.add(tf.matmul(inputs, w0), b0) \n",
        "  layer_1 = tf.nn.relu(layer_1)\n",
        "  # Hidden Layer \n",
        "  layer_2 = tf.add(tf.matmul(layer_1, w1), b1)\n",
        "  layer_2 = tf.nn.relu(layer_2)\n",
        "  # Output Layer\n",
        "  out_layer = tf.matmul(layer_2, out_w) + out_b\n",
        "  return out_layer\n",
        "    \n",
        "train_steps = 4000\n",
        "learning_rate = 0.1"
      ],
      "execution_count": null,
      "outputs": []
    },
    {
      "cell_type": "code",
      "metadata": {
        "id": "NWwZsraTj2fx",
        "pycharm": {
          "name": "#%%\n"
        },
        "colab": {
          "base_uri": "https://localhost:8080/"
        },
        "outputId": "0811d55d-b643-48ea-cd18-281e648cc200"
      },
      "source": [
        "# training loop\n",
        "for step in range(train_steps+1):\n",
        "    image_batch, label_batch = data.next_batch()\n",
        "    \n",
        "    with tf.GradientTape() as tape:\n",
        "      logits = model(image_batch)\n",
        "\n",
        "      xent = tf.reduce_mean(tf.nn.sparse_softmax_cross_entropy_with_logits(\n",
        "            logits=logits, labels=label_batch))\n",
        "         \n",
        "      grads = tape.gradient(xent, [w0, b0, w1, b1, out_w, out_b])\n",
        "\n",
        "      w0.assign_sub(learning_rate * grads[0])\n",
        "      b0.assign_sub(learning_rate * grads[1])\n",
        "      w1.assign_sub(learning_rate * grads[2])\n",
        "      b1.assign_sub(learning_rate * grads[3])\n",
        "      out_w.assign_sub(learning_rate * grads[4])\n",
        "      out_b.assign_sub(learning_rate * grads[5])\n",
        "    \n",
        "    # every so often we print loss/accuracy\n",
        "    if not step % 100:\n",
        "        preds = tf.argmax(logits, axis=1, output_type=tf.int32)\n",
        "        acc = tf.reduce_mean(tf.cast(tf.equal(preds, label_batch),\n",
        "                             tf.float32))\n",
        "        print(\"Step {}. Batch loss: {} Batch accuracy: {}\".format(step+1, xent, acc))\n"
      ],
      "execution_count": null,
      "outputs": [
        {
          "output_type": "stream",
          "name": "stdout",
          "text": [
            "Step 1. Batch loss: 2.298374652862549 Batch accuracy: 0.09375\n",
            "Step 101. Batch loss: 0.36649906635284424 Batch accuracy: 0.9140625\n",
            "Step 201. Batch loss: 0.4495994746685028 Batch accuracy: 0.828125\n",
            "Step 301. Batch loss: 0.17709293961524963 Batch accuracy: 0.9609375\n",
            "Step 401. Batch loss: 0.2060117870569229 Batch accuracy: 0.953125\n",
            "Starting new epoch...\n",
            "Step 501. Batch loss: 0.22643499076366425 Batch accuracy: 0.953125\n",
            "Step 601. Batch loss: 0.2662007212638855 Batch accuracy: 0.875\n",
            "Step 701. Batch loss: 0.19697163999080658 Batch accuracy: 0.9453125\n",
            "Step 801. Batch loss: 0.12442759424448013 Batch accuracy: 0.96875\n",
            "Step 901. Batch loss: 0.20644298195838928 Batch accuracy: 0.96875\n",
            "Starting new epoch...\n",
            "Step 1001. Batch loss: 0.14273446798324585 Batch accuracy: 0.9453125\n",
            "Step 1101. Batch loss: 0.08009163290262222 Batch accuracy: 0.9765625\n",
            "Step 1201. Batch loss: 0.0819505900144577 Batch accuracy: 0.984375\n",
            "Step 1301. Batch loss: 0.241347998380661 Batch accuracy: 0.9140625\n",
            "Step 1401. Batch loss: 0.24938951432704926 Batch accuracy: 0.9296875\n",
            "Starting new epoch...\n",
            "Step 1501. Batch loss: 0.1375667005777359 Batch accuracy: 0.9453125\n",
            "Step 1601. Batch loss: 0.14200621843338013 Batch accuracy: 0.953125\n",
            "Step 1701. Batch loss: 0.2028384804725647 Batch accuracy: 0.9609375\n",
            "Step 1801. Batch loss: 0.08033826947212219 Batch accuracy: 0.96875\n",
            "Starting new epoch...\n",
            "Step 1901. Batch loss: 0.13134217262268066 Batch accuracy: 0.953125\n",
            "Step 2001. Batch loss: 0.1520358920097351 Batch accuracy: 0.953125\n",
            "Step 2101. Batch loss: 0.09425323456525803 Batch accuracy: 0.9609375\n",
            "Step 2201. Batch loss: 0.1661980003118515 Batch accuracy: 0.9453125\n",
            "Step 2301. Batch loss: 0.09483038634061813 Batch accuracy: 0.9765625\n",
            "Starting new epoch...\n",
            "Step 2401. Batch loss: 0.1891927272081375 Batch accuracy: 0.9375\n",
            "Step 2501. Batch loss: 0.1013319119811058 Batch accuracy: 0.9765625\n",
            "Step 2601. Batch loss: 0.11922086775302887 Batch accuracy: 0.96875\n",
            "Step 2701. Batch loss: 0.0725027322769165 Batch accuracy: 0.9765625\n",
            "Step 2801. Batch loss: 0.10952933877706528 Batch accuracy: 0.9609375\n",
            "Starting new epoch...\n",
            "Step 2901. Batch loss: 0.06610555946826935 Batch accuracy: 0.9765625\n",
            "Step 3001. Batch loss: 0.042463988065719604 Batch accuracy: 1.0\n",
            "Step 3101. Batch loss: 0.026928823441267014 Batch accuracy: 1.0\n",
            "Step 3201. Batch loss: 0.09999726712703705 Batch accuracy: 0.9609375\n",
            "Starting new epoch...\n",
            "Step 3301. Batch loss: 0.024856023490428925 Batch accuracy: 1.0\n",
            "Step 3401. Batch loss: 0.06268977373838425 Batch accuracy: 0.9765625\n",
            "Step 3501. Batch loss: 0.03293394297361374 Batch accuracy: 1.0\n",
            "Step 3601. Batch loss: 0.04213574156165123 Batch accuracy: 0.984375\n",
            "Step 3701. Batch loss: 0.07098152488470078 Batch accuracy: 0.9921875\n",
            "Starting new epoch...\n",
            "Step 3801. Batch loss: 0.03562481701374054 Batch accuracy: 0.9765625\n",
            "Step 3901. Batch loss: 0.07968471944332123 Batch accuracy: 0.9765625\n",
            "Step 4001. Batch loss: 0.06749832630157471 Batch accuracy: 0.9765625\n"
          ]
        }
      ]
    },
    {
      "cell_type": "code",
      "metadata": {
        "id": "pGSRvdL5j6iz",
        "pycharm": {
          "name": "#%%\n"
        },
        "colab": {
          "base_uri": "https://localhost:8080/"
        },
        "outputId": "a743fb5d-b133-4a9a-cf48-9032a1914318"
      },
      "source": [
        "test_preds = tf.argmax(model(data.test_data), axis=1,\n",
        "                       output_type=tf.int32)\n",
        "acc = tf.reduce_mean(tf.cast(tf.equal(test_preds, data.test_labels),\n",
        "                             tf.float32))\n",
        "print(\"Test accuracy: {}\".format(acc))"
      ],
      "execution_count": null,
      "outputs": [
        {
          "output_type": "stream",
          "name": "stdout",
          "text": [
            "Test accuracy: 0.9745000004768372\n"
          ]
        }
      ]
    },
    {
      "cell_type": "markdown",
      "source": [
        "#Observations\n",
        "\n",
        "1. When learning rate is changed from **0.1** to **0.01** then Accruracy is changed from **96.87** to **90.89**, because with lower learning rate model converges slowly.\n",
        "\n",
        "2. When we train the model with more training steps(EPOCH), the test accuracy is increased."
      ],
      "metadata": {
        "id": "9S-CfXjGirVT"
      }
    },
    {
      "cell_type": "code",
      "source": [],
      "metadata": {
        "id": "dSQ9rwT0q1ag"
      },
      "execution_count": null,
      "outputs": []
    }
  ]
}